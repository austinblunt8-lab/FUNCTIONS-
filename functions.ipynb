{
  "nbformat": 4,
  "nbformat_minor": 0,
  "metadata": {
    "colab": {
      "provenance": []
    },
    "kernelspec": {
      "name": "python3",
      "display_name": "Python 3"
    },
    "language_info": {
      "name": "python"
    }
  },
  "cells": [
    {
      "cell_type": "markdown",
      "source": [
        "**THEORY QUESTIONS **"
      ],
      "metadata": {
        "id": "TFKe-sYXVsxs"
      }
    },
    {
      "cell_type": "markdown",
      "source": [
        "1. What is the difference between a function and a method in Python?\n",
        "  - Function: A piece of code you can use by itself.\n",
        "Example: print(\"Hello!\") - print() is a function.\n",
        "Method: A piece of code that belongs to something else (an object). You use it on that object.\n",
        "Example: \"Hello!\".upper() - .upper() is a method that works on the string object \"Hello!\".\n"
      ],
      "metadata": {
        "id": "d9KNxAcmNID2"
      }
    },
    {
      "cell_type": "markdown",
      "metadata": {
        "id": "48dddbda"
      },
      "source": [
        "2. Explain the concept of function arguments and parameters in Python.\n",
        "\n",
        "* **Parameters**: Think of parameters as placeholders in the function definition. They are the names given to the values the function expects to receive.\n",
        "* **Arguments**: Arguments are the actual values that are passed to the function when you call it."
      ]
    },
    {
      "cell_type": "code",
      "metadata": {
        "colab": {
          "base_uri": "https://localhost:8080/"
        },
        "id": "55b27c79",
        "outputId": "01c38089-1bff-4d23-ce9b-c05ba87d1449"
      },
      "source": [
        "# This is the function definition with a parameter called 'name'\n",
        "def greet(name):\n",
        "  print(f\"Hello, {name}!\")\n",
        "\n",
        "# When we call the function, \"Alice\" is the argument that gets passed to the 'name' parameter\n",
        "greet(\"Alice\")"
      ],
      "execution_count": 1,
      "outputs": [
        {
          "output_type": "stream",
          "name": "stdout",
          "text": [
            "Hello, Alice!\n"
          ]
        }
      ]
    },
    {
      "cell_type": "markdown",
      "metadata": {
        "id": "f9bcc9bc"
      },
      "source": [
        "3. What are the different ways to define and call a function in Python?\n",
        "- There are several ways to define and call functions in Python:\n",
        "\n",
        "Defining a function: You typically use the def keyword followed by the function name, parentheses for parameters, and a colon. The function body is indented.\n",
        "Calling a function: You call a function by its name followed by parentheses, passing any required arguments inside the parentheses.\n",
        "Let's look at an example:\n"
      ]
    },
    {
      "cell_type": "code",
      "metadata": {
        "colab": {
          "base_uri": "https://localhost:8080/"
        },
        "id": "98d37afa",
        "outputId": "c57e41a2-742f-4ab0-8fe4-58da9bfcec87"
      },
      "source": [
        "# Defining a simple function with one parameter\n",
        "def multiply_by_two(number):\n",
        "  \"\"\"This function multiplies a number by two.\"\"\"\n",
        "  result = number * 2\n",
        "  return result\n",
        "\n",
        "# Calling the function and storing the result\n",
        "my_number = 5\n",
        "doubled_number = multiply_by_two(my_number)\n",
        "\n",
        "# Printing the result\n",
        "print(f\"The result of multiplying {my_number} by two is: {doubled_number}\")\n",
        "\n",
        "# Calling the function directly in a print statement\n",
        "print(f\"Multiplying 10 by two directly: {multiply_by_two(10)}\")"
      ],
      "execution_count": 2,
      "outputs": [
        {
          "output_type": "stream",
          "name": "stdout",
          "text": [
            "The result of multiplying 5 by two is: 10\n",
            "Multiplying 10 by two directly: 20\n"
          ]
        }
      ]
    },
    {
      "cell_type": "markdown",
      "source": [
        "4. What is the purpose of the `return` statement in a Python function?\n",
        "  - The return statement is used to exit a function and send a value back to the part of the program that called the function. If a function doesn't have a return statement, it implicitly returns None."
      ],
      "metadata": {
        "id": "e7dxpRKDQUUV"
      }
    },
    {
      "cell_type": "code",
      "metadata": {
        "colab": {
          "base_uri": "https://localhost:8080/"
        },
        "id": "17cb0bb4",
        "outputId": "55b21b59-1d85-4c59-ee38-c040614d1d24"
      },
      "source": [
        "def add_numbers(a, b):\n",
        "  \"\"\"This function adds two numbers and returns the sum.\"\"\"\n",
        "  sum_result = a + b\n",
        "  return sum_result # The return statement sends the value of sum_result back\n",
        "\n",
        "# Call the function and store the returned value\n",
        "total = add_numbers(7, 3)\n",
        "\n",
        "# Print the returned value\n",
        "print(f\"The sum is: {total}\")"
      ],
      "execution_count": 3,
      "outputs": [
        {
          "output_type": "stream",
          "name": "stdout",
          "text": [
            "The sum is: 10\n"
          ]
        }
      ]
    },
    {
      "cell_type": "markdown",
      "source": [
        "5. What are iterators in Python and how do they differ from iterables?\n"
      ],
      "metadata": {
        "id": "b4sOjA3CRage"
      }
    },
    {
      "cell_type": "markdown",
      "metadata": {
        "id": "f67ca732"
      },
      "source": [
        "- Let's break down the difference between iterables and iterators in Python using simple terms.\n",
        "\n",
        "*   **Iterable:** Think of an iterable as a container or a collection of items that you can loop over or \"iterate\" through. It's something that **can be iterated upon**. Examples of iterables include lists, tuples, strings, and dictionaries. You can get an iterator from an iterable.\n",
        "\n",
        "*   **Iterator:** An iterator is an object that represents a stream of data. It's what actually **does the iterating**. It keeps track of the current item and knows how to get to the next one. You can get an iterator from an iterable using the `iter()` function. An iterator has a `__next__()` method that returns the next item in the sequence. When there are no more items, it raises a `StopIteration` exception.\n",
        "\n",
        "In simple words:\n",
        "An **iterable** is like a book (you can read through it).\n",
        "An **iterator** is like a bookmark (it keeps track of your current position and helps you go to the next page)."
      ]
    },
    {
      "cell_type": "markdown",
      "metadata": {
        "id": "7c0eeacd"
      },
      "source": [
        "Here's a simple example:"
      ]
    },
    {
      "cell_type": "code",
      "metadata": {
        "colab": {
          "base_uri": "https://localhost:8080/"
        },
        "id": "c66e9cf2",
        "outputId": "25077932-db2f-41d1-fce2-4e30817e9d2b"
      },
      "source": [
        "# This is an iterable (a list)\n",
        "my_list = [1, 2, 3, 4]\n",
        "\n",
        "# We get an iterator from the iterable using iter()\n",
        "my_iterator = iter(my_list)\n",
        "\n",
        "# We can get the next item using the next() function (which calls the __next__() method of the iterator)\n",
        "print(next(my_iterator)) # Output: 1\n",
        "print(next(my_iterator)) # Output: 2\n",
        "print(next(my_iterator)) # Output: 3\n",
        "print(next(my_iterator)) # Output: 4\n",
        "\n",
        "# Trying to get the next item after the last one will raise StopIteration\n",
        "try:\n",
        "  print(next(my_iterator))\n",
        "except StopIteration:\n",
        "  print(\"No more items in the iterator.\")\n",
        "\n",
        "# Note that you can directly loop over an iterable using a for loop.\n",
        "# The for loop implicitly gets an iterator and calls next() for you.\n",
        "print(\"\\nIterating directly over the list:\")\n",
        "for item in my_list:\n",
        "  print(item)"
      ],
      "execution_count": 4,
      "outputs": [
        {
          "output_type": "stream",
          "name": "stdout",
          "text": [
            "1\n",
            "2\n",
            "3\n",
            "4\n",
            "No more items in the iterator.\n",
            "\n",
            "Iterating directly over the list:\n",
            "1\n",
            "2\n",
            "3\n",
            "4\n"
          ]
        }
      ]
    },
    {
      "cell_type": "markdown",
      "source": [
        "6. Explain the concept of generators in Python and how they are defined.\n",
        "   - Generators are a special type of iterator in Python. They are functions that yield a sequence of results instead of returning a single value. The main advantage of generators is that they produce items one at a time and only when requested. This makes them very memory-efficient, especially when dealing with large sequences of data, as they don't load all the items into memory at once.\n",
        "\n",
        "Generators are defined using a function with the yield keyword instead of return. When the yield statement is encountered, the function's state is frozen, and the value is yielded. When next() is called on the generator again, the function resumes execution from where it left off.\n",
        "\n",
        "Here's a simple example of a generator:\n"
      ],
      "metadata": {
        "id": "xY9jiTwHRmqH"
      }
    },
    {
      "cell_type": "code",
      "metadata": {
        "colab": {
          "base_uri": "https://localhost:8080/"
        },
        "id": "ebe5ca71",
        "outputId": "ad0afc78-ab35-4b91-82a8-1614753e8d95"
      },
      "source": [
        "def simple_generator():\n",
        "  \"\"\"A simple generator that yields numbers 1, 2, and 3.\"\"\"\n",
        "  print(\"First item\")\n",
        "  yield 1\n",
        "  print(\"Second item\")\n",
        "  yield 2\n",
        "  print(\"Third item\")\n",
        "  yield 3\n",
        "\n",
        "# Create a generator object\n",
        "my_generator = simple_generator()\n",
        "\n",
        "# Get the next item using next()\n",
        "print(next(my_generator))\n",
        "\n",
        "# Get the next item again\n",
        "print(next(my_generator))\n",
        "\n",
        "# Get the last item\n",
        "print(next(my_generator))\n",
        "\n",
        "# Trying to get the next item now will raise StopIteration\n",
        "try:\n",
        "  print(next(my_generator))\n",
        "except StopIteration:\n",
        "  print(\"No more items from the generator.\")\n",
        "\n",
        "print(\"\\nLooping through the generator:\")\n",
        "# You can also loop through a generator using a for loop\n",
        "for item in simple_generator():\n",
        "  print(item)"
      ],
      "execution_count": 5,
      "outputs": [
        {
          "output_type": "stream",
          "name": "stdout",
          "text": [
            "First item\n",
            "1\n",
            "Second item\n",
            "2\n",
            "Third item\n",
            "3\n",
            "No more items from the generator.\n",
            "\n",
            "Looping through the generator:\n",
            "First item\n",
            "1\n",
            "Second item\n",
            "2\n",
            "Third item\n",
            "3\n"
          ]
        }
      ]
    },
    {
      "cell_type": "markdown",
      "source": [
        "7.  What are the advantages of using generators over regular functions?"
      ],
      "metadata": {
        "id": "gtGr7L9SSNuL"
      }
    },
    {
      "cell_type": "markdown",
      "metadata": {
        "id": "42de3ece"
      },
      "source": [
        "The main advantages of using generators over regular functions that return a list (or other iterable) are:\n",
        "\n",
        "1.  **Memory Efficiency:** Generators produce items one at a time and on demand. This is crucial when dealing with large datasets or infinite sequences, as you don't need to load everything into memory at once. Regular functions that return a list build the entire list in memory before returning it, which can consume a lot of resources.\n",
        "\n",
        "2.  **Performance:** For large datasets, generating items as needed can be faster than building a complete list.\n",
        "\n",
        "3.  **Simplicity for Infinite Sequences:** Generators can easily represent infinite sequences because they don't need to store the entire sequence.\n",
        "\n",
        "In simple words: If you have a lot of items to process but only need to work with one at a time, a generator is like a smart assembly line that gives you items as you need them, instead of a factory that builds everything and then delivers it all at once."
      ]
    },
    {
      "cell_type": "markdown",
      "metadata": {
        "id": "56b96c3f"
      },
      "source": [
        "Here's a simple example illustrating memory efficiency:"
      ]
    },
    {
      "cell_type": "code",
      "metadata": {
        "colab": {
          "base_uri": "https://localhost:8080/"
        },
        "id": "e3a4481b",
        "outputId": "739985db-5747-401c-fa00-a9b980c6689c"
      },
      "source": [
        "import sys\n",
        "\n",
        "# Regular function that creates a list\n",
        "def create_list(n):\n",
        "  \"\"\"Creates a list of numbers from 0 to n-1.\"\"\"\n",
        "  my_list = []\n",
        "  for i in range(n):\n",
        "    my_list.append(i)\n",
        "  return my_list\n",
        "\n",
        "# Generator function\n",
        "def simple_generator(n):\n",
        "  \"\"\"A generator that yields numbers from 0 to n-1.\"\"\"\n",
        "  for i in range(n):\n",
        "    yield i\n",
        "\n",
        "# Let's compare the memory usage for a large number\n",
        "n = 1000000\n",
        "\n",
        "# Using the regular function (commented out to avoid excessive memory usage)\n",
        "# list_of_numbers = create_list(n)\n",
        "# print(f\"Memory usage of list: {sys.getsizeof(list_of_numbers)} bytes\")\n",
        "\n",
        "# Using the generator\n",
        "generator_of_numbers = simple_generator(n)\n",
        "print(f\"Memory usage of generator object: {sys.getsizeof(generator_of_numbers)} bytes\")\n",
        "\n",
        "# To actually get the values from the generator, you iterate through it.\n",
        "# This process consumes memory for each item as it's yielded,\n",
        "# but not for the entire sequence at once like the list does.\n",
        "# You can iterate through the generator:\n",
        "# for num in generator_of_numbers:\n",
        "#   pass # Do something with each number"
      ],
      "execution_count": 6,
      "outputs": [
        {
          "output_type": "stream",
          "name": "stdout",
          "text": [
            "Memory usage of generator object: 200 bytes\n"
          ]
        }
      ]
    },
    {
      "cell_type": "markdown",
      "source": [
        "8. What is a lambda function in Python and when is it typically used?\n",
        "\n",
        "1.   List item\n",
        "2.   List item\n",
        "\n",
        "\n",
        "   - A lambda function (also known as an anonymous function) is a small, single-expression function that doesn't have a name. It's defined using the lambda keyword.\n",
        "\n",
        "The basic syntax is: lambda arguments: expression\n",
        "\n",
        "arguments: These are the inputs to the lambda function (similar to parameters in a regular function).\n",
        "expression: This is a single expression that is evaluated, and its result is the return value of the lambda function.\n",
        "When is it typically used?\n",
        "\n",
        "Lambda functions are often used in situations where you need a small function for a short period, usually as an argument to higher-order functions (functions that take other functions as arguments). Common use cases include:\n",
        "\n",
        "Sorting: Using lambda with sorted() or list.sort() to define a custom sorting key.\n",
        "Filtering: Using lambda with filter() to define a condition for filtering elements.\n",
        "Mapping: Using lambda with map() to apply an operation to each element of an iterable.\n",
        "Event Handling: In some GUI frameworks, lambda can be used for simple callback functions.\n",
        "They are best suited for simple operations; for more complex logic, a regular def function is more readable."
      ],
      "metadata": {
        "id": "kxG5ceD8Uj7J"
      }
    },
    {
      "cell_type": "code",
      "metadata": {
        "colab": {
          "base_uri": "https://localhost:8080/"
        },
        "id": "d4eae7dc",
        "outputId": "6eb8875a-5496-4eb2-9c56-58a15d7ab41f"
      },
      "source": [
        "# Example of a lambda function to add two numbers\n",
        "add = lambda x, y: x + y\n",
        "\n",
        "# Call the lambda function\n",
        "result = add(5, 3)\n",
        "print(f\"The sum using a lambda function is: {result}\")\n",
        "\n",
        "# Example using lambda with sorted()\n",
        "my_list = [(1, 'banana'), (3, 'apple'), (2, 'cherry')]\n",
        "\n",
        "# Sort the list based on the first element of the tuple\n",
        "sorted_list_by_number = sorted(my_list, key=lambda item: item[0])\n",
        "print(f\"Sorted by number: {sorted_list_by_number}\")\n",
        "\n",
        "# Sort the list based on the second element (the fruit name)\n",
        "sorted_list_by_fruit = sorted(my_list, key=lambda item: item[1])\n",
        "print(f\"Sorted by fruit: {sorted_list_by_fruit}\")"
      ],
      "execution_count": 8,
      "outputs": [
        {
          "output_type": "stream",
          "name": "stdout",
          "text": [
            "The sum using a lambda function is: 8\n",
            "Sorted by number: [(1, 'banana'), (2, 'cherry'), (3, 'apple')]\n",
            "Sorted by fruit: [(3, 'apple'), (1, 'banana'), (2, 'cherry')]\n"
          ]
        }
      ]
    },
    {
      "cell_type": "markdown",
      "source": [
        "9. Explain the purpose and usage of the `map()` function in Python.\n",
        "- The map() function in Python is a built-in function that applies a given function to each item of an iterable (like a list or tuple) and returns a map object (which is an iterator).\n",
        "\n",
        "Think of map() as a way to transform each item in a collection without writing an explicit loop.\n",
        "\n",
        "The basic syntax is: map(function, iterable)\n",
        "\n",
        "function: This is the function that will be applied to each item of the iterable. It can be a built-in function, a user-defined function, or a lambda function.\n",
        "iterable: This is the sequence (like a list, tuple, or string) whose elements will be passed to the function.\n",
        "The map() function returns a map object, which is an iterator. To get the results as a list (or other sequence type), you typically convert the map object using list(), tuple(), etc.\n",
        "\n",
        "Here's a simple example:"
      ],
      "metadata": {
        "id": "nMOu9qhDU5Yp"
      }
    },
    {
      "cell_type": "code",
      "source": [
        "# Define a function that squares a number\n",
        "def square(x):\n",
        "  return x * x\n",
        "\n",
        "# Create a list of numbers\n",
        "numbers = [1, 2, 3, 4, 5]\n",
        "\n",
        "# Use map() to apply the square function to each number in the list\n",
        "# map() returns a map object, so we convert it to a list\n",
        "squared_numbers = list(map(square, numbers))\n",
        "\n",
        "# Print the result\n",
        "print(f\"Original numbers: {numbers}\")\n",
        "print(f\"Squared numbers: {squared_numbers}\")\n",
        "\n",
        "# Example using map() with a lambda function\n",
        "# We want to double each number\n",
        "doubled_numbers = list(map(lambda x: x * 2, numbers))\n",
        "print(f\"Doubled numbers (using lambda): {doubled_numbers}\")"
      ],
      "metadata": {
        "id": "17MzIibLVgPV"
      },
      "execution_count": null,
      "outputs": []
    },
    {
      "cell_type": "markdown",
      "source": [
        "**PRACTICAL QUJESTIONS**\n"
      ],
      "metadata": {
        "id": "J33vsaA0VquW"
      }
    },
    {
      "cell_type": "markdown",
      "source": [
        "1. Write a Python function that takes a list of numbers as input and returns the sum of all even numbers in\n",
        "the list."
      ],
      "metadata": {
        "id": "1IDLJRX0WGYx"
      }
    },
    {
      "cell_type": "code",
      "metadata": {
        "colab": {
          "base_uri": "https://localhost:8080/"
        },
        "id": "f55400d5",
        "outputId": "3b428d0f-e7c8-40af-ad5b-8c95ac3f2083"
      },
      "source": [
        "def sum_of_even_numbers(numbers_list):\n",
        "  \"\"\"\n",
        "  This function takes a list of numbers and returns the sum of all even numbers in the list.\n",
        "\n",
        "  Args:\n",
        "    numbers_list: A list of numbers.\n",
        "\n",
        "  Returns:\n",
        "    The sum of all even numbers in the input list.\n",
        "  \"\"\"\n",
        "  even_sum = 0  # Initialize a variable to store the sum of even numbers\n",
        "  for number in numbers_list:  # Loop through each number in the list\n",
        "    if number % 2 == 0:  # Check if the number is even (remainder when divided by 2 is 0)\n",
        "      even_sum += number  # If it's even, add it to the sum\n",
        "  return even_sum  # Return the final sum of even numbers\n",
        "\n",
        "# Example usage:\n",
        "my_numbers = [1, 2, 3, 4, 5, 6, 7, 8, 9, 10]\n",
        "total_even = sum_of_even_numbers(my_numbers)\n",
        "print(f\"The list is: {my_numbers}\")\n",
        "print(f\"The sum of the even numbers in the list is: {total_even}\")\n",
        "\n",
        "my_numbers_2 = [15, 22, 31, 40, 55]\n",
        "total_even_2 = sum_of_even_numbers(my_numbers_2)\n",
        "print(f\"The list is: {my_numbers_2}\")\n",
        "print(f\"The sum of the even numbers in the list is: {total_even_2}\")"
      ],
      "execution_count": 10,
      "outputs": [
        {
          "output_type": "stream",
          "name": "stdout",
          "text": [
            "The list is: [1, 2, 3, 4, 5, 6, 7, 8, 9, 10]\n",
            "The sum of the even numbers in the list is: 30\n",
            "The list is: [15, 22, 31, 40, 55]\n",
            "The sum of the even numbers in the list is: 62\n"
          ]
        }
      ]
    },
    {
      "cell_type": "markdown",
      "source": [
        "Create a Python function that accepts a string and returns the reverse of that string."
      ],
      "metadata": {
        "id": "1rENEKRvWbQv"
      }
    },
    {
      "cell_type": "code",
      "metadata": {
        "colab": {
          "base_uri": "https://localhost:8080/"
        },
        "id": "c253b939",
        "outputId": "52b4ee0a-568e-4461-f221-1b91b2b638b0"
      },
      "source": [
        "def reverse_string(input_string):\n",
        "  \"\"\"\n",
        "  This function takes a string as input and returns its reverse.\n",
        "\n",
        "  Args:\n",
        "    input_string: The string to be reversed.\n",
        "\n",
        "  Returns:\n",
        "    The reversed string.\n",
        "  \"\"\"\n",
        "  return input_string[::-1] # This is a simple way to reverse a string in Python using slicing\n",
        "\n",
        "# Example usage:\n",
        "my_string = \"hello\"\n",
        "reversed_string = reverse_string(my_string)\n",
        "print(f\"Original string: {my_string}\")\n",
        "print(f\"Reversed string: {reversed_string}\")\n",
        "\n",
        "my_string_2 = \"Python is fun!\"\n",
        "reversed_string_2 = reverse_string(my_string_2)\n",
        "print(f\"Original string: {my_string_2}\")\n",
        "print(f\"Reversed string: {reversed_string_2}\")"
      ],
      "execution_count": 11,
      "outputs": [
        {
          "output_type": "stream",
          "name": "stdout",
          "text": [
            "Original string: hello\n",
            "Reversed string: olleh\n",
            "Original string: Python is fun!\n",
            "Reversed string: !nuf si nohtyP\n"
          ]
        }
      ]
    },
    {
      "cell_type": "markdown",
      "source": [
        "3. . Implement a Python function that takes a list of integers and returns a new list containing the squares of\n",
        "each number."
      ],
      "metadata": {
        "id": "zdERk6_gWs1z"
      }
    },
    {
      "cell_type": "code",
      "metadata": {
        "colab": {
          "base_uri": "https://localhost:8080/"
        },
        "id": "6d115d9c",
        "outputId": "84c8bb3b-e1b9-4ef8-b9bc-54a9d88540f5"
      },
      "source": [
        "def square_numbers(numbers_list):\n",
        "  \"\"\"\n",
        "  This function takes a list of integers and returns a new list\n",
        "  containing the squares of each number.\n",
        "\n",
        "  Args:\n",
        "    numbers_list: A list of integers.\n",
        "\n",
        "  Returns:\n",
        "    A new list with the squares of the numbers in the input list.\n",
        "  \"\"\"\n",
        "  squared_list = [] # Initialize an empty list to store the squared numbers\n",
        "  for number in numbers_list: # Loop through each number in the input list\n",
        "    squared_list.append(number ** 2) # Calculate the square and add it to the new list\n",
        "  return squared_list # Return the new list of squared numbers\n",
        "\n",
        "# Example usage:\n",
        "my_numbers = [1, 2, 3, 4, 5]\n",
        "squared_result = square_numbers(my_numbers)\n",
        "print(f\"Original list: {my_numbers}\")\n",
        "print(f\"List with squares: {squared_result}\")\n",
        "\n",
        "my_numbers_2 = [-2, 0, 5, 10]\n",
        "squared_result_2 = square_numbers(my_numbers_2)\n",
        "print(f\"Original list: {my_numbers_2}\")\n",
        "print(f\"List with squares: {squared_result_2}\")"
      ],
      "execution_count": 12,
      "outputs": [
        {
          "output_type": "stream",
          "name": "stdout",
          "text": [
            "Original list: [1, 2, 3, 4, 5]\n",
            "List with squares: [1, 4, 9, 16, 25]\n",
            "Original list: [-2, 0, 5, 10]\n",
            "List with squares: [4, 0, 25, 100]\n"
          ]
        }
      ]
    },
    {
      "cell_type": "markdown",
      "source": [
        "4.  Write a Python function that checks if a given number is prime or not from 1 to 200."
      ],
      "metadata": {
        "id": "cwXIfdmHW4KV"
      }
    },
    {
      "cell_type": "code",
      "metadata": {
        "colab": {
          "base_uri": "https://localhost:8080/"
        },
        "id": "36fac57d",
        "outputId": "6795759b-fd75-4ba3-8ead-0e0a5ee2226d"
      },
      "source": [
        "def is_prime(num):\n",
        "  \"\"\"\n",
        "  Checks if a given number is prime.\n",
        "\n",
        "  Args:\n",
        "    num: An integer.\n",
        "\n",
        "  Returns:\n",
        "    True if the number is prime, False otherwise.\n",
        "  \"\"\"\n",
        "  if num <= 1:\n",
        "    return False # Numbers less than or equal to 1 are not prime\n",
        "  for i in range(2, int(num**0.5) + 1): # Check for factors from 2 up to the square root of the number\n",
        "    if num % i == 0:\n",
        "      return False # If a factor is found, it's not prime\n",
        "  return True # If no factors are found, it's prime\n",
        "\n",
        "# Check for prime numbers from 1 to 200\n",
        "print(\"Prime numbers between 1 and 200:\")\n",
        "for number in range(1, 201):\n",
        "  if is_prime(number):\n",
        "    print(number)"
      ],
      "execution_count": 13,
      "outputs": [
        {
          "output_type": "stream",
          "name": "stdout",
          "text": [
            "Prime numbers between 1 and 200:\n",
            "2\n",
            "3\n",
            "5\n",
            "7\n",
            "11\n",
            "13\n",
            "17\n",
            "19\n",
            "23\n",
            "29\n",
            "31\n",
            "37\n",
            "41\n",
            "43\n",
            "47\n",
            "53\n",
            "59\n",
            "61\n",
            "67\n",
            "71\n",
            "73\n",
            "79\n",
            "83\n",
            "89\n",
            "97\n",
            "101\n",
            "103\n",
            "107\n",
            "109\n",
            "113\n",
            "127\n",
            "131\n",
            "137\n",
            "139\n",
            "149\n",
            "151\n",
            "157\n",
            "163\n",
            "167\n",
            "173\n",
            "179\n",
            "181\n",
            "191\n",
            "193\n",
            "197\n",
            "199\n"
          ]
        }
      ]
    },
    {
      "cell_type": "markdown",
      "source": [
        "5.reate an iterator class in Python that generates the Fibonacci sequence up to a specified number of Terms."
      ],
      "metadata": {
        "id": "Km0v_59EXDBF"
      }
    },
    {
      "cell_type": "code",
      "metadata": {
        "colab": {
          "base_uri": "https://localhost:8080/"
        },
        "id": "9f3d7e73",
        "outputId": "014d4f5b-fc22-44d6-860e-189167c52158"
      },
      "source": [
        "class FibonacciIterator:\n",
        "  \"\"\"\n",
        "  An iterator class that generates the Fibonacci sequence up to a specified number of terms.\n",
        "  \"\"\"\n",
        "  def __init__(self, num_terms):\n",
        "    if num_terms <= 0:\n",
        "      raise ValueError(\"Number of terms must be a positive integer\")\n",
        "    self.num_terms = num_terms\n",
        "    self.current_term = 0\n",
        "    self.a, self.b = 0, 1\n",
        "\n",
        "  def __iter__(self):\n",
        "    return self\n",
        "\n",
        "  def __next__(self):\n",
        "    if self.current_term < self.num_terms:\n",
        "      if self.current_term == 0:\n",
        "        self.current_term += 1\n",
        "        return self.a\n",
        "      elif self.current_term == 1:\n",
        "        self.current_term += 1\n",
        "        return self.b\n",
        "      else:\n",
        "        next_fib = self.a + self.b\n",
        "        self.a = self.b\n",
        "        self.b = next_fib\n",
        "        self.current_term += 1\n",
        "        return next_fib\n",
        "    else:\n",
        "      raise StopIteration\n",
        "\n",
        "# Example usage:\n",
        "fib_iterator = FibonacciIterator(10) # Generate the first 10 Fibonacci terms\n",
        "\n",
        "print(\"Fibonacci sequence:\")\n",
        "for term in fib_iterator:\n",
        "  print(term)\n",
        "\n",
        "# You can also get terms using next()\n",
        "# fib_iterator_2 = FibonacciIterator(5)\n",
        "# print(next(fib_iterator_2))\n",
        "# print(next(fib_iterator_2))\n",
        "# print(next(fib_iterator_2))\n",
        "# print(next(fib_iterator_2))\n",
        "# print(next(fib_iterator_2))"
      ],
      "execution_count": 14,
      "outputs": [
        {
          "output_type": "stream",
          "name": "stdout",
          "text": [
            "Fibonacci sequence:\n",
            "0\n",
            "1\n",
            "1\n",
            "2\n",
            "3\n",
            "5\n",
            "8\n",
            "13\n",
            "21\n",
            "34\n"
          ]
        }
      ]
    },
    {
      "cell_type": "markdown",
      "source": [
        "6. Write a generator function in Python that yields the powers of 2 up to a given exponent."
      ],
      "metadata": {
        "id": "s8HKleEtXaKX"
      }
    },
    {
      "cell_type": "code",
      "metadata": {
        "colab": {
          "base_uri": "https://localhost:8080/"
        },
        "id": "8c959228",
        "outputId": "6f2ae7e6-687e-48c5-8f7b-53e4e738ed8e"
      },
      "source": [
        "def powers_of_two(max_exponent):\n",
        "  \"\"\"\n",
        "  A generator function that yields powers of 2 up to a given exponent.\n",
        "\n",
        "  Args:\n",
        "    max_exponent: The maximum exponent (inclusive) for the powers of 2.\n",
        "\n",
        "  Yields:\n",
        "    The next power of 2.\n",
        "  \"\"\"\n",
        "  for i in range(max_exponent + 1):\n",
        "    yield 2 ** i\n",
        "\n",
        "# Example usage:\n",
        "# Create a generator object\n",
        "powers_gen = powers_of_two(5) # Get powers of 2 up to 2^5\n",
        "\n",
        "print(\"Powers of 2:\")\n",
        "# Iterate through the generator\n",
        "for power in powers_gen:\n",
        "  print(power)\n",
        "\n",
        "# You can also get values using next()\n",
        "# powers_gen_2 = powers_of_two(3)\n",
        "# print(next(powers_gen_2))\n",
        "# print(next(powers_gen_2))\n",
        "# print(next(powers_gen_2))\n",
        "# print(next(powers_gen_2)) # This will raise StopIteration"
      ],
      "execution_count": 15,
      "outputs": [
        {
          "output_type": "stream",
          "name": "stdout",
          "text": [
            "Powers of 2:\n",
            "1\n",
            "2\n",
            "4\n",
            "8\n",
            "16\n",
            "32\n"
          ]
        }
      ]
    },
    {
      "cell_type": "markdown",
      "source": [
        "7. Implement a generator function that reads a file line by line and yields each line as a string."
      ],
      "metadata": {
        "id": "w9_Xc3h3XpAv"
      }
    },
    {
      "cell_type": "code",
      "metadata": {
        "id": "31708612"
      },
      "source": [
        "# Create a dummy file for demonstration\n",
        "with open(\"my_document.txt\", \"w\") as f:\n",
        "  f.write(\"This is the first line.\\n\")\n",
        "  f.write(\"This is the second line.\\n\")\n",
        "  f.write(\"And this is the third line.\\n\")\n",
        "  f.write(\"Let's add one more.\\n\")"
      ],
      "execution_count": 16,
      "outputs": []
    },
    {
      "cell_type": "code",
      "metadata": {
        "colab": {
          "base_uri": "https://localhost:8080/"
        },
        "id": "11dced36",
        "outputId": "cde3612e-2774-4dfc-bff4-09068b83b3c3"
      },
      "source": [
        "def file_reader_generator(file_path):\n",
        "  \"\"\"\n",
        "  A generator function that reads a file line by line and yields each line.\n",
        "\n",
        "  Args:\n",
        "    file_path: The path to the file to read.\n",
        "\n",
        "  Yields:\n",
        "    Each line from the file as a string.\n",
        "  \"\"\"\n",
        "  try:\n",
        "    with open(file_path, 'r') as f:\n",
        "      for line in f:\n",
        "        yield line.strip() # Yield each line, removing leading/trailing whitespace\n",
        "  except FileNotFoundError:\n",
        "    print(f\"Error: File not found at {file_path}\")\n",
        "  except Exception as e:\n",
        "    print(f\"An error occurred: {e}\")\n",
        "\n",
        "# Example usage:\n",
        "# Create a generator object by calling the function\n",
        "line_generator = file_reader_generator(\"my_document.txt\")\n",
        "\n",
        "print(\"Reading file line by line:\")\n",
        "# Iterate through the generator to get each line\n",
        "for line in line_generator:\n",
        "  print(line)\n",
        "\n",
        "# Example of getting lines using next() (useful for getting a few lines at a time)\n",
        "# line_generator_2 = file_reader_generator(\"my_document.txt\")\n",
        "# print(next(line_generator_2))\n",
        "# print(next(line_generator_2))"
      ],
      "execution_count": 17,
      "outputs": [
        {
          "output_type": "stream",
          "name": "stdout",
          "text": [
            "Reading file line by line:\n",
            "This is the first line.\n",
            "This is the second line.\n",
            "And this is the third line.\n",
            "Let's add one more.\n"
          ]
        }
      ]
    },
    {
      "cell_type": "markdown",
      "source": [
        "8. Use a lambda function in Python to sort a list of tuples based on the second element of each tuple."
      ],
      "metadata": {
        "id": "N7CqMtfSYHs5"
      }
    },
    {
      "cell_type": "code",
      "metadata": {
        "colab": {
          "base_uri": "https://localhost:8080/"
        },
        "id": "a4c725aa",
        "outputId": "34339fe9-4af4-409e-ee30-e91f6bffde71"
      },
      "source": [
        "# A list of tuples\n",
        "my_list = [(1, 'banana'), (3, 'apple'), (2, 'cherry'), (4, 'date')]\n",
        "\n",
        "# Use sorted() with a lambda function as the key\n",
        "# The lambda function takes an item (a tuple) and returns the second element (item[1])\n",
        "sorted_list = sorted(my_list, key=lambda item: item[1])\n",
        "\n",
        "print(f\"Original list: {my_list}\")\n",
        "print(f\"Sorted list by the second element: {sorted_list}\")"
      ],
      "execution_count": 18,
      "outputs": [
        {
          "output_type": "stream",
          "name": "stdout",
          "text": [
            "Original list: [(1, 'banana'), (3, 'apple'), (2, 'cherry'), (4, 'date')]\n",
            "Sorted list by the second element: [(3, 'apple'), (1, 'banana'), (2, 'cherry'), (4, 'date')]\n"
          ]
        }
      ]
    },
    {
      "cell_type": "markdown",
      "source": [
        "9. Write a Python program that uses `map()` to convert a list of temperatures from Celsius to Fahrenheit."
      ],
      "metadata": {
        "id": "9C9VtJDeYNIU"
      }
    },
    {
      "cell_type": "code",
      "metadata": {
        "colab": {
          "base_uri": "https://localhost:8080/"
        },
        "id": "a4cc1f39",
        "outputId": "abebd3a5-c826-41a6-d5eb-a3f64aea99ca"
      },
      "source": [
        "# Function to convert Celsius to Fahrenheit\n",
        "def celsius_to_fahrenheit(celsius):\n",
        "  \"\"\"Converts Celsius to Fahrenheit.\"\"\"\n",
        "  return (celsius * 9/5) + 32\n",
        "\n",
        "# List of temperatures in Celsius\n",
        "celsius_temps = [0, 10, 20, 30, 40, 50]\n",
        "\n",
        "# Use map() to apply the celsius_to_fahrenheit function to each item in the list\n",
        "# map() returns a map object, so we convert it to a list\n",
        "fahrenheit_temps = list(map(celsius_to_fahrenheit, celsius_temps))\n",
        "\n",
        "# Print the results\n",
        "print(f\"Celsius temperatures: {celsius_temps}\")\n",
        "print(f\"Fahrenheit temperatures: {fahrenheit_temps}\")\n",
        "\n",
        "# You can also use a lambda function with map() for simple conversions\n",
        "fahrenheit_temps_lambda = list(map(lambda c: (c * 9/5) + 32, celsius_temps))\n",
        "print(f\"Fahrenheit temperatures (using lambda): {fahrenheit_temps_lambda}\")"
      ],
      "execution_count": 19,
      "outputs": [
        {
          "output_type": "stream",
          "name": "stdout",
          "text": [
            "Celsius temperatures: [0, 10, 20, 30, 40, 50]\n",
            "Fahrenheit temperatures: [32.0, 50.0, 68.0, 86.0, 104.0, 122.0]\n",
            "Fahrenheit temperatures (using lambda): [32.0, 50.0, 68.0, 86.0, 104.0, 122.0]\n"
          ]
        }
      ]
    },
    {
      "cell_type": "markdown",
      "source": [
        "11. Write a Python program using lambda and map?"
      ],
      "metadata": {
        "id": "UhlQK-BdYmQH"
      }
    },
    {
      "cell_type": "code",
      "metadata": {
        "colab": {
          "base_uri": "https://localhost:8080/"
        },
        "id": "a11ad871",
        "outputId": "5e7e2088-a8eb-4dba-f121-9004dc5e25c0"
      },
      "source": [
        "# List of numbers\n",
        "numbers = [1, 2, 3, 4, 5]\n",
        "\n",
        "# Use map() with a lambda function to square each number\n",
        "# lambda x: x**2 is the lambda function that squares its input\n",
        "# map applies this lambda to each element in the 'numbers' list\n",
        "# list() converts the map object back into a list\n",
        "squared_numbers = list(map(lambda x: x**2, numbers))\n",
        "\n",
        "# Print the result\n",
        "print(f\"Original numbers: {numbers}\")\n",
        "print(f\"Squared numbers (using map and lambda): {squared_numbers}\")\n",
        "\n",
        "# Another example: converting strings to uppercase\n",
        "words = [\"hello\", \"world\", \"python\"]\n",
        "uppercase_words = list(map(lambda s: s.upper(), words))\n",
        "print(f\"Original words: {words}\")\n",
        "print(f\"Uppercase words (using map and lambda): {uppercase_words}\")"
      ],
      "execution_count": 20,
      "outputs": [
        {
          "output_type": "stream",
          "name": "stdout",
          "text": [
            "Original numbers: [1, 2, 3, 4, 5]\n",
            "Squared numbers (using map and lambda): [1, 4, 9, 16, 25]\n",
            "Original words: ['hello', 'world', 'python']\n",
            "Uppercase words (using map and lambda): ['HELLO', 'WORLD', 'PYTHON']\n"
          ]
        }
      ]
    }
  ]
}